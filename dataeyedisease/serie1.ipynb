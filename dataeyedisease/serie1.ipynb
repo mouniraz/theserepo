{
 "cells": [
  {
   "cell_type": "markdown",
   "id": "f1e7a080-df52-48f3-917e-8e1bc5d7f5d5",
   "metadata": {},
   "source": [
    "### Correction Act1 : Input et output sur la console \n",
    "> lire 2 entiers et afficher la somme "
   ]
  },
  {
   "cell_type": "code",
   "execution_count": 6,
   "id": "bd4eaeef-9bb0-44ca-96ce-ea29740b6616",
   "metadata": {},
   "outputs": [
    {
     "name": "stdin",
     "output_type": "stream",
     "text": [
      "donner un entier 12\n",
      "donner un entier 12\n"
     ]
    },
    {
     "name": "stdout",
     "output_type": "stream",
     "text": [
      "la somme est  24\n"
     ]
    }
   ],
   "source": [
    "a=int(input(\"donner un entier\"))\n",
    "b=int(input(\"donner un entier\"))\n",
    "print(\"la somme est \",a+b)"
   ]
  },
  {
   "cell_type": "markdown",
   "id": "f57f9e45-78ac-4aba-ad36-97a277d94067",
   "metadata": {},
   "source": [
    "### Correction Act2 : Input et output sur la console \n",
    "> les types de base de langage python "
   ]
  },
  {
   "cell_type": "code",
   "execution_count": 8,
   "id": "91485ce6-c9f5-4e63-9948-b2c045b0e683",
   "metadata": {},
   "outputs": [
    {
     "name": "stdout",
     "output_type": "stream",
     "text": [
      "<class 'int'>\n",
      "<class 'list'>\n",
      "<class 'float'>\n",
      "<class 'str'>\n",
      "<class 'str'>\n",
      "<class 'bool'>\n",
      "<class 'bool'>\n",
      "<class 'list'>\n",
      "<class 'list'>\n",
      "<class 'list'>\n"
     ]
    }
   ],
   "source": [
    "a = 15\n",
    "print(type(a))\n",
    "jour = [\"lundi\", \"mardi\", \"mercredi\", 1800, 20.357, \"jeudi\", \"vendredi\"]\n",
    "print(type(jour))\n",
    "b = 14.5\n",
    "print(type(b))\n",
    "s= 'Bonjour'\n",
    "print(type(s))\n",
    "st = \"Bonsoir\"\n",
    "print(type(st))\n",
    "test = True\n",
    "print(type(test))\n",
    "test1=not(test)\n",
    "print(type(test1))\n",
    "jour = [\"lundi\", \"mardi\", \"mercredi\",  \"jeudi\", \"vendredi\"]\n",
    "print(type(jour))\n",
    "jour1 = [\"lundi\", \"mardi\", \"mercredi\", 1800, 20.357, \"jeudi\", \"vendredi\"]\n",
    "print(type(jour1))\n",
    "c = 2 + 3j\n",
    "print(type(jour1))"
   ]
  },
  {
   "cell_type": "markdown",
   "id": "1d723027-3db7-46e6-b345-bb71710ceb1c",
   "metadata": {},
   "source": [
    "### Correction Act3 : Instructions conditionnelles \n",
    "> la structure if else"
   ]
  },
  {
   "cell_type": "markdown",
   "id": "60bd36e1-500a-429d-a7a9-0caa780032df",
   "metadata": {},
   "source": [
    "#### le min"
   ]
  },
  {
   "cell_type": "code",
   "execution_count": 10,
   "id": "9ca3e6d4-a0e9-4045-b5f5-be8f84f040af",
   "metadata": {},
   "outputs": [
    {
     "name": "stdin",
     "output_type": "stream",
     "text": [
      "donner un entier 12\n",
      "donner un entier 23\n"
     ]
    },
    {
     "name": "stdout",
     "output_type": "stream",
     "text": [
      "le minimum est  12\n"
     ]
    }
   ],
   "source": [
    "a=int(input(\"donner un entier\"))\n",
    "b=int(input(\"donner un entier\"))\n",
    "if a<b:\n",
    "    print(\"le minimum est \",a)\n",
    "else:\n",
    "    print(\"le min est \",b)\n"
   ]
  },
  {
   "cell_type": "markdown",
   "id": "7a3c5f68-87fa-4866-bb92-02745c071ff5",
   "metadata": {},
   "source": [
    "#### la chaine la plus longue et test sur la taille dúne chaine"
   ]
  },
  {
   "cell_type": "code",
   "execution_count": 2,
   "id": "af0b8358-c62e-43b4-bcbc-1317804a59b3",
   "metadata": {},
   "outputs": [
    {
     "name": "stdin",
     "output_type": "stream",
     "text": [
      "donner la première chaine 111111111111111111\n",
      "donner la deuxième chaine  qqq\n"
     ]
    },
    {
     "name": "stdout",
     "output_type": "stream",
     "text": [
      "la chaine la plus longue est  111111111111111111 sa longueur est 18\n",
      "la taille de la chaine la plus longue est commprise entre 10 et 20\n"
     ]
    }
   ],
   "source": [
    "a=input(\"donner la première chaine\")\n",
    "b=input(\"donner la deuxième chaine \")\n",
    "if len(a)<len(b):\n",
    "    str=b\n",
    "else:\n",
    "    str=a    \n",
    "print(\"la chaine la plus longue est \",str,\"sa longueur est\",len(str))\n",
    "if len(str)>10 and len(str)<20:\n",
    "    print(\"la taille de la chaine la plus longue est commprise entre 10 et 20\")\n"
   ]
  },
  {
   "cell_type": "markdown",
   "id": "e4d46564-130c-4c25-95ad-361b1d9f1078",
   "metadata": {},
   "source": [
    "## les instructions itératives \n"
   ]
  },
  {
   "cell_type": "code",
   "execution_count": 8,
   "id": "21c3a4d5-32a5-4958-a3a2-d4f365ce39da",
   "metadata": {},
   "outputs": [
    {
     "name": "stdout",
     "output_type": "stream",
     "text": [
      "Marc\n",
      "nadia\n",
      "aida\n",
      "ines\n",
      "ahmed\n",
      "0 Marc\n",
      "1 nadia\n",
      "2 aida\n",
      "3 ines\n",
      "4 ahmed\n"
     ]
    }
   ],
   "source": [
    "students = [\"Marc\", \"nadia\", \"aida\", \"ines\", \"ahmed\"]\n",
    "moyennes = [12.1, 15, 16, 10, 9]\n",
    "##parcourir les élements du tableau\n",
    "for student in students:\n",
    "    print(student)\n",
    "##parcourir les indices du tableau\n",
    "for index in range(len(students)):\n",
    "    print(index,students[index])"
   ]
  },
  {
   "cell_type": "markdown",
   "id": "75b110ac-0308-4964-ba48-51bda73cf8c0",
   "metadata": {},
   "source": [
    "#### la moyenne des moyennes"
   ]
  },
  {
   "cell_type": "code",
   "execution_count": 10,
   "id": "159b3ca2-750a-4564-91f1-1e6a22a23384",
   "metadata": {},
   "outputs": [
    {
     "name": "stdout",
     "output_type": "stream",
     "text": [
      "la moyenne est  12.42\n"
     ]
    }
   ],
   "source": [
    "somme=0\n",
    "for m in moyennes:\n",
    "    somme=m+somme\n",
    "print(\"la moyenne est \",somme/len(moyennes))"
   ]
  },
  {
   "cell_type": "code",
   "execution_count": 12,
   "id": "4624d036-f6b1-4ed2-b9b4-8abb5804128c",
   "metadata": {},
   "outputs": [
    {
     "name": "stdin",
     "output_type": "stream",
     "text": [
      "donner un entier: 10\n",
      "donner un entier: 23\n",
      "donner un entier: $\n"
     ]
    },
    {
     "name": "stdout",
     "output_type": "stream",
     "text": [
      "la somme est  33\n"
     ]
    }
   ],
   "source": [
    "somme=0\n",
    "n=input(\"donner un entier:\")\n",
    "\n",
    "while n!=\"$\":\n",
    "    n=int(n)\n",
    "    somme+=n\n",
    "    n=input(\"donner un entier:\")\n",
    "\n",
    "print(\"la somme est \",somme)"
   ]
  },
  {
   "cell_type": "markdown",
   "id": "c3c81918-a7b0-492f-b9d5-03c9ef6a3622",
   "metadata": {},
   "source": [
    "## Application\n",
    "> exercices applicatives"
   ]
  },
  {
   "cell_type": "code",
   "execution_count": null,
   "id": "9a446419-f316-4c42-afcf-01e09bb3c84c",
   "metadata": {},
   "outputs": [],
   "source": []
  }
 ],
 "metadata": {
  "kernelspec": {
   "display_name": "Python 3 (ipykernel)",
   "language": "python",
   "name": "python3"
  },
  "language_info": {
   "codemirror_mode": {
    "name": "ipython",
    "version": 3
   },
   "file_extension": ".py",
   "mimetype": "text/x-python",
   "name": "python",
   "nbconvert_exporter": "python",
   "pygments_lexer": "ipython3",
   "version": "3.9.15"
  }
 },
 "nbformat": 4,
 "nbformat_minor": 5
}
